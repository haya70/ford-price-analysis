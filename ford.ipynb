import pandas as pd
import numpy as np
import seaborn as sns
import matplotlib.pyplot as plt
from scipy import stats

df = pd.read_csv(r"C:\Users\pc\Desktop\data analysis\module3\archive (1)\ford.csv")
df.head()

df = df[(df['year'] <= 2024) & (df['price'] > 100) & (df['price'] < 100000)]

df.dtypes

print("year: " , df['year'].unique())
print("price: " , df['price'].unique())
print("mileage: " , df['mileage'].unique())
print("tax: " , df['tax'].unique())

def Analysis_plot (det , xplace, yplace= 'price'):
    sns.regplot(x= xplace, y= yplace , data= det )
    plt.title(f'{xplace} vs {yplace}')
    plt.show()

    print()
    print(df[[xplace, yplace]].corr())

    print()
    corr, p = stats.pearsonr(df[xplace],df[yplace])
    print(f'corr: {corr} and p: {p}')

Analysis_plot(df, 'year')
Analysis_plot(df, 'mileage')
Analysis_plot(df, 'tax')
Analysis_plot(df, 'engineSize')

sns.boxplot(x= 'model', y= 'price', data= df)
sns.boxplot(x= 'transmission', y= 'price', data= df)
sns.boxplot(x= 'fuelType', y= 'price', data= df)

sec = df[['model','year','price']]

sec = sec.groupby(['model','year'], as_index= False).mean()
sec

pivot_sec = sec.pivot(index= 'year', columns= 'model')
pivot_sec = pivot_sec.fillna(0)
pivot_sec

#use the grouped results
plt.pcolor(pivot_sec, cmap='RdBu')
plt.colorbar()
plt.show()

fig, ax = plt.subplots()
im = ax.pcolor(pivot_sec, cmap='RdBu')

#label names
x_labels = pivot_sec.columns.levels[1]
y_labels = pivot_sec.index

#move ticks and labels to the center
ax.set_xticks(np.arange(len(x_labels)) + 0.5)
ax.set_yticks(np.arange(len(y_labels)) + 0.5)

#insert labels
ax.set_xticklabels(x_labels)
ax.set_yticklabels(y_labels)

#rotate label if too long
plt.xticks(rotation=90)

fig.colorbar(im)
plt.show()
